{
  "nbformat": 4,
  "nbformat_minor": 0,
  "metadata": {
    "colab": {
      "provenance": []
    },
    "kernelspec": {
      "name": "python3",
      "display_name": "Python 3"
    },
    "language_info": {
      "name": "python"
    }
  },
  "cells": [
    {
      "cell_type": "code",
      "execution_count": null,
      "metadata": {
        "id": "GBaRxMZ_KH8Z"
      },
      "outputs": [],
      "source": [
        "from google.colab import drive"
      ]
    },
    {
      "cell_type": "code",
      "source": [
        "drive.mount('_content_drive')\n"
      ],
      "metadata": {
        "colab": {
          "base_uri": "https://localhost:8080/"
        },
        "id": "udV146yLKKez",
        "outputId": "a3167986-33a8-45c0-f64e-0f7c5bb9ac22"
      },
      "execution_count": null,
      "outputs": [
        {
          "output_type": "stream",
          "name": "stdout",
          "text": [
            "Mounted at _content_drive\n"
          ]
        }
      ]
    },
    {
      "cell_type": "code",
      "source": [
        "import pandas as pd\n"
      ],
      "metadata": {
        "id": "mH8kokAJKNWa"
      },
      "execution_count": null,
      "outputs": []
    },
    {
      "cell_type": "code",
      "source": [
        "data = pd.read_json('/content/_content_drive/MyDrive/Starbucks /Starbucks/updated data /Users.json', lines=True)"
      ],
      "metadata": {
        "id": "Sg2BqmvfKUJP"
      },
      "execution_count": null,
      "outputs": []
    },
    {
      "cell_type": "code",
      "source": [
        "data1 = pd.read_json('/content/_content_drive/MyDrive/Starbucks /Starbucks/updated data /Users_.json', lines=True)"
      ],
      "metadata": {
        "id": "kLAiUKj6Kiyw"
      },
      "execution_count": null,
      "outputs": []
    },
    {
      "cell_type": "code",
      "source": [
        "Data= pd.concat([data.iloc[:850, :], data1.iloc[:850, :]], axis=1)"
      ],
      "metadata": {
        "id": "EOm6VAbjK3SH"
      },
      "execution_count": null,
      "outputs": []
    },
    {
      "cell_type": "code",
      "source": [
        "print(Data)"
      ],
      "metadata": {
        "colab": {
          "base_uri": "https://localhost:8080/"
        },
        "id": "3tMElJD-Lyfi",
        "outputId": "0766b172-1d8e-4cf7-db3d-eca28baa6fa1"
      },
      "execution_count": null,
      "outputs": [
        {
          "output_type": "stream",
          "name": "stdout",
          "text": [
            "     User_ID       name            location  Rating   ID Gender  Age  \\\n",
            "0          1      Helen   Wichita Falls, TX     5.0    0          18   \n",
            "1          2   Courtney          Apopka, FL     5.0    1      F   55   \n",
            "2          3   Daynelle   Cranberry Twp, PA     5.0    2          18   \n",
            "3          4     Taylor         Seattle, WA     5.0    3      F   75   \n",
            "4          5    Tenessa         Gresham, OR     5.0    4          18   \n",
            "..       ...        ...                 ...     ...  ...    ...  ...   \n",
            "845      846      Becky    Agoura Hills, CA     NaN  845      F   54   \n",
            "846      847        Bob        Goodrich, MI     NaN  846      F   56   \n",
            "847      848       Erik  Valley Village, CA     NaN  847          18   \n",
            "848      849     Andrew       Fallbrook, CA     NaN  848      M   58   \n",
            "849      850  Christian          Ramsey, NJ     NaN  849      F   56   \n",
            "\n",
            "    Membership_date    income  \n",
            "0        12-02-2017            \n",
            "1        15-07-2017  112000.0  \n",
            "2        12-07-2018            \n",
            "3        09-05-2017  100000.0  \n",
            "4        04-08-2017            \n",
            "..              ...       ...  \n",
            "845      11-02-2017   82000.0  \n",
            "846      24-06-2016   55000.0  \n",
            "847      03-06-2016            \n",
            "848      20-04-2018   41000.0  \n",
            "849      20-07-2018   91000.0  \n",
            "\n",
            "[850 rows x 9 columns]\n"
          ]
        }
      ]
    },
    {
      "cell_type": "code",
      "source": [
        "Data = Data.drop(['ID','Rating','Membership_date'], axis=1)"
      ],
      "metadata": {
        "id": "l8glmqxiL0ZB"
      },
      "execution_count": null,
      "outputs": []
    },
    {
      "cell_type": "code",
      "source": [
        "print(Data)"
      ],
      "metadata": {
        "colab": {
          "base_uri": "https://localhost:8080/"
        },
        "id": "XkNi-84HMbZC",
        "outputId": "cbbac1c1-ea9b-48ae-9bef-be48ad6264a6"
      },
      "execution_count": null,
      "outputs": [
        {
          "output_type": "stream",
          "name": "stdout",
          "text": [
            "     User_ID       name            location Gender  Age    income\n",
            "0          1      Helen   Wichita Falls, TX          18          \n",
            "1          2   Courtney          Apopka, FL      F   55  112000.0\n",
            "2          3   Daynelle   Cranberry Twp, PA          18          \n",
            "3          4     Taylor         Seattle, WA      F   75  100000.0\n",
            "4          5    Tenessa         Gresham, OR          18          \n",
            "..       ...        ...                 ...    ...  ...       ...\n",
            "845      846      Becky    Agoura Hills, CA      F   54   82000.0\n",
            "846      847        Bob        Goodrich, MI      F   56   55000.0\n",
            "847      848       Erik  Valley Village, CA          18          \n",
            "848      849     Andrew       Fallbrook, CA      M   58   41000.0\n",
            "849      850  Christian          Ramsey, NJ      F   56   91000.0\n",
            "\n",
            "[850 rows x 6 columns]\n"
          ]
        }
      ]
    },
    {
      "cell_type": "code",
      "source": [
        "Data.to_json('Customer.json', orient='records', lines=True)"
      ],
      "metadata": {
        "id": "pyAh6P5tMfm3"
      },
      "execution_count": null,
      "outputs": []
    },
    {
      "cell_type": "code",
      "source": [],
      "metadata": {
        "id": "ZoFZMvH1MrGs"
      },
      "execution_count": null,
      "outputs": []
    }
  ]
}